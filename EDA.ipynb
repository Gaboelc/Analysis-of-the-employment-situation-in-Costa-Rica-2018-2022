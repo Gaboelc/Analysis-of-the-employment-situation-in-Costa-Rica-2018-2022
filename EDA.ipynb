{
 "cells": [
  {
   "cell_type": "markdown",
   "metadata": {},
   "source": [
    "## Libraries"
   ]
  },
  {
   "cell_type": "code",
   "execution_count": 32,
   "metadata": {},
   "outputs": [],
   "source": [
    "import pandas as pd\n",
    "import glob\n",
    "import os"
   ]
  },
  {
   "cell_type": "markdown",
   "metadata": {},
   "source": [
    "## Data cleaning class"
   ]
  },
  {
   "cell_type": "code",
   "execution_count": 33,
   "metadata": {},
   "outputs": [],
   "source": [
    "class clean_data:\n",
    "    \n",
    "    column_names_first_page = {'Unnamed: 1': 'Sector industrial',\n",
    "                               'Unnamed: 2': 'Población ocupada por sexo: Hombre',\n",
    "                               'Unnamed: 3': 'Población ocupada por sexo: Mujer',\n",
    "                               'Unnamed: 4': 'Ingreso bruto medio en el empleo principal por sexo: Hombre',\n",
    "                               'Unnamed: 5': 'Ingreso bruto medio en el empleo principal por sexo: Mujer',\n",
    "                               'Unnamed: 6': 'brecha del ingreso'}\n",
    "    \n",
    "    column_names_second_page = {'Unnamed: 1': 'Sector industrial',\n",
    "                                'Unnamed: 2': 'Población ocupada tiempo parcial por sexo: Hombre',\n",
    "                                'Unnamed: 3': 'Población ocupada tiempo parcial por sexo: Mujer',\n",
    "                                'Unnamed: 4': 'Ingreso bruto medio tiempo parcial en el empleo principal por sexo: Hombre',\n",
    "                                'Unnamed: 5': 'Ingreso bruto medio tiempo parcial en el empleo principal por sexo: Mujer',\n",
    "                                'Unnamed: 6': 'Diferencial del ingreso tiempo parcial',\n",
    "                                'Unnamed: 7': 'Población ocupada tiempo completo por sexo: Hombre',\n",
    "                                'Unnamed: 8': 'Población ocupada tiempo completo por sexo: Mujer',\n",
    "                                'Unnamed: 9': 'Ingreso bruto medio tiempo completo en el empleo principal por sexo: Hombre',\n",
    "                                'Unnamed: 10': 'Ingreso bruto medio tiempo completo en el empleo principal por sexo: Mujer',\n",
    "                                'Unnamed: 11': 'Diferencial del ingreso tiempo completo'}\n",
    "    \n",
    "    def clean_first_page(self, df):\n",
    "        \n",
    "        df.drop(df.columns[0], axis=1, inplace=True)\n",
    "        df.dropna(how='all', inplace=True)\n",
    "\n",
    "        self.data_period = df['Unnamed: 2'][4].split(' ')\n",
    "\n",
    "        df.drop([0,2,4], axis=0, inplace=True)\n",
    "        df.rename(columns=self.column_names_first_page, inplace=True)\n",
    "\n",
    "        if self.data_period[0] == 'I':\n",
    "            df['Data Period quarterly'] = 1\n",
    "            df['Data Period year'] = self.data_period[2]\n",
    "\n",
    "        elif self.data_period[0] == 'II':\n",
    "            df['Data Period quarterly'] = 2\n",
    "            df['Data Period year'] = self.data_period[2]\n",
    "\n",
    "        elif self.data_period[0] == 'III':\n",
    "            df['Data Period quarterly'] = 3\n",
    "            df['Data Period year'] = self.data_period[2]\n",
    "\n",
    "        elif self.data_period[0] == 'IV':\n",
    "            df['Data Period quarterly'] = 4\n",
    "            df['Data Period year'] = self.data_period[2]\n",
    "\n",
    "        self.total_trabajadores = df.loc[8:8].reset_index(drop=True)\n",
    "\n",
    "        df.drop([5,6,8], axis=0, inplace=True)\n",
    "        df.reset_index(drop=True, inplace=True)\n",
    "\n",
    "        self.total_sector = df[df['Sector industrial'].str.contains('Sector|1.4 No especificado', na=False)].reset_index(drop=True)\n",
    "        self.sector_publico_privado = df[df['Sector industrial'].str.contains('Público|Privado', na=False)].reset_index(drop=True)\n",
    "        self.posicion_empleo = df[df['Sector industrial'].str.contains('Asalariada|Cuenta propia|Empleadora|Auxiliar no remunerado', na=False)].reset_index(drop=True)\n",
    "\n",
    "        df.drop(df[df['Sector industrial'].str.contains('Sector', na=False)].index, inplace=True)\n",
    "        df = df.drop(df.loc[16:39].index).reset_index(drop=True)\n",
    "        \n",
    "        return [df, self.total_trabajadores, self.total_sector, self.sector_publico_privado, self.posicion_empleo]\n",
    "    \n",
    "    def clean_second_page(self, df):\n",
    "        \n",
    "        df.drop(df.columns[0], axis=1, inplace=True)\n",
    "        df.dropna(how='all', inplace=True)\n",
    "\n",
    "        self.data_period = df['Unnamed: 2'][4].split(' ')\n",
    "\n",
    "        df.drop([0,2,4], axis=0, inplace=True)\n",
    "        df.rename(columns=self.column_names_second_page, inplace=True)\n",
    "\n",
    "        if self.data_period[0] == 'I':\n",
    "            df['Data Period quarterly'] = 1\n",
    "            df['Data Period year'] = self.data_period[2]\n",
    "\n",
    "        elif self.data_period[0] == 'II':\n",
    "            df['Data Period quarterly'] = 2\n",
    "            df['Data Period year'] = self.data_period[2]\n",
    "\n",
    "        elif self.data_period[0] == 'III':\n",
    "            df['Data Period quarterly'] = 3\n",
    "            df['Data Period year'] = self.data_period[2]\n",
    "\n",
    "        elif self.data_period[0] == 'IV':\n",
    "            df['Data Period quarterly'] = 4\n",
    "            df['Data Period year'] = self.data_period[2]\n",
    "\n",
    "        self.total_trabajadores = df.loc[8:8].reset_index(drop=True)\n",
    "\n",
    "        df.drop([5,6,8], axis=0, inplace=True)\n",
    "        df.reset_index(drop=True, inplace=True)\n",
    "\n",
    "        self.total_sector = df[df['Sector industrial'].str.contains('Sector|1.4 No especificado', na=False)].reset_index(drop=True)\n",
    "        self.sector_publico_privado = df[df['Sector industrial'].str.contains('Público|Privado', na=False)].reset_index(drop=True)\n",
    "        self.posicion_empleo = df[df['Sector industrial'].str.contains('Asalariada|Cuenta propia|Empleadora|Auxiliar no remunerado', na=False)].reset_index(drop=True)\n",
    "\n",
    "        df.drop(df[df['Sector industrial'].str.contains('Sector', na=False)].index, inplace=True)\n",
    "        df = df.drop(df.loc[16:39].index).reset_index(drop=True)\n",
    "        \n",
    "        \n",
    "        return [df, self.total_trabajadores, self.total_sector, self.sector_publico_privado, self.posicion_empleo]"
   ]
  },
  {
   "cell_type": "markdown",
   "metadata": {},
   "source": [
    "## Importing and cleaning data"
   ]
  },
  {
   "cell_type": "code",
   "execution_count": 34,
   "metadata": {},
   "outputs": [],
   "source": [
    "clean = clean_data()\n",
    "\n",
    "csvdirs = './Data/input'\n",
    "years = os.listdir(csvdirs)\n",
    "\n",
    "dataframes_first_page = []\n",
    "dataframes_second_page = []\n",
    "\n",
    "total_trabajadores_first_page = []\n",
    "total_trabajadores_second_page = []\n",
    "\n",
    "total_sector_first_page = []\n",
    "total_sector_second_page = []\n",
    "\n",
    "sector_publico_privado_first_page = []\n",
    "sector_publico_privado_second_page = []\n",
    "\n",
    "posicion_empleo_first_page = []\n",
    "posicion_empleo_second_page = []\n",
    "\n",
    "\n",
    "for year in years:\n",
    "        csvfiles = glob.glob(os.path.join(csvdirs, year, '*.xlsx'))\n",
    "        \n",
    "        for csvfile in csvfiles:\n",
    "                df = pd.read_excel(csvfile, sheet_name=1)\n",
    "                \n",
    "                result_first_page = clean.clean_first_page(df)\n",
    "                dataframes_first_page.append(result_first_page[0])\n",
    "                total_trabajadores_first_page.append(result_first_page[1])\n",
    "                total_sector_first_page.append(result_first_page[2])\n",
    "                sector_publico_privado_first_page.append(result_first_page[3])\n",
    "                posicion_empleo_first_page.append(result_first_page[4])\n",
    "                \n",
    "                df = pd.read_excel(csvfile, sheet_name=2)\n",
    "                \n",
    "                result_second_page = clean.clean_second_page(df)\n",
    "                dataframes_second_page.append(result_second_page[0])\n",
    "                total_trabajadores_second_page.append(result_second_page[1])\n",
    "                total_sector_second_page.append(result_second_page[2])\n",
    "                sector_publico_privado_second_page.append(result_second_page[3])\n",
    "                posicion_empleo_second_page.append(result_second_page[4])"
   ]
  },
  {
   "cell_type": "code",
   "execution_count": 35,
   "metadata": {},
   "outputs": [],
   "source": [
    "result_first_page = pd.concat(dataframes_first_page, ignore_index=True)\n",
    "result_total_trabajadores_first_page = pd.concat(total_trabajadores_first_page, ignore_index=True)\n",
    "result_total_sector_first_page = pd.concat(total_sector_first_page, ignore_index=True)\n",
    "result_sector_publico_privado_first_page = pd.concat(sector_publico_privado_first_page, ignore_index=True)\n",
    "result_posicion_empleo_first_page = pd.concat(posicion_empleo_first_page, ignore_index=True)\n",
    "\n",
    "result_second_page = pd.concat(dataframes_second_page, ignore_index=True)\n",
    "result_total_trabajadores_second_page = pd.concat(total_trabajadores_second_page, ignore_index=True)\n",
    "result_total_sector_second_page = pd.concat(total_sector_second_page, ignore_index=True)\n",
    "result_sector_publico_privado_second_page = pd.concat(sector_publico_privado_second_page, ignore_index=True)\n",
    "result_posicion_empleo_second_page = pd.concat(posicion_empleo_second_page, ignore_index=True)"
   ]
  },
  {
   "cell_type": "markdown",
   "metadata": {},
   "source": [
    "## Exporting data cleaned"
   ]
  },
  {
   "cell_type": "code",
   "execution_count": 40,
   "metadata": {},
   "outputs": [],
   "source": [
    "result_first_page.to_csv('Data/output/result_first_page.csv')\n",
    "result_total_trabajadores_first_page.to_csv('Data/output/result_total_trabajadores_first_page.csv')\n",
    "result_total_sector_first_page.to_csv('Data/output/result_total_sector_first_page.csv')\n",
    "result_sector_publico_privado_first_page.to_csv('Data/output/result_sector_publico_privado_first_page.csv')\n",
    "result_posicion_empleo_first_page.to_csv('Data/output/result_posicion_empleo_first_page.csv')\n",
    "\n",
    "result_second_page.to_csv('Data/output/result_second_page.csv')\n",
    "result_total_trabajadores_second_page.to_csv('Data/output/result_total_trabajadores_second_page.csv')\n",
    "result_total_sector_second_page.to_csv('Data/output/result_total_sector_second_page.csv')\n",
    "result_sector_publico_privado_second_page.to_csv('Data/output/result_sector_publico_privado_second_page.csv')\n",
    "result_posicion_empleo_second_page.to_csv('Data/output/result_posicion_empleo_second_page.csv')"
   ]
  },
  {
   "cell_type": "code",
   "execution_count": null,
   "metadata": {},
   "outputs": [],
   "source": []
  }
 ],
 "metadata": {
  "kernelspec": {
   "display_name": "Python 3.9.12 ('base')",
   "language": "python",
   "name": "python3"
  },
  "language_info": {
   "codemirror_mode": {
    "name": "ipython",
    "version": 3
   },
   "file_extension": ".py",
   "mimetype": "text/x-python",
   "name": "python",
   "nbconvert_exporter": "python",
   "pygments_lexer": "ipython3",
   "version": "3.9.12"
  },
  "orig_nbformat": 4,
  "vscode": {
   "interpreter": {
    "hash": "f49206fcf84a9145e7e21228cbafa911d1ac18292303b01e865d8267a9c448f7"
   }
  }
 },
 "nbformat": 4,
 "nbformat_minor": 2
}
